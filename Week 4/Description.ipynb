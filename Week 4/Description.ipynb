{
 "cells": [
  {
   "cell_type": "markdown",
   "metadata": {
    "id": "M7F_3p6B5vw0"
   },
   "source": [
    "# **A description of the problem and a discussion of the background**"
   ]
  },
  {
   "cell_type": "markdown",
   "metadata": {
    "id": "RmMV5Wkt6Ops"
   },
   "source": [
    "# **Introduction**\n",
    "\n",
    "\n",
    "\n",
    "\n",
    "---\n",
    "\n",
    "\n",
    "\n",
    "Tourism has always been a booming sector across the globe. No matter which country you\n",
    "live in, you can always come across a group of people, big or small, who always like to visit\n",
    "places. I being an adventurer myself can acknowledge this fact as to how tourism plays a\n",
    "salient role for a traveler/explorer. Tourism is not only an important aspect of a country’s\n",
    "economy but also for its global standing.\n",
    "\n",
    "\n",
    "# **Why Tourism is important to any country?**\n",
    "\n",
    "---\n",
    "\n",
    "\n",
    "\n",
    "\n",
    "The tourism industry is important for the benefits it brings and due to its role as a commercial\n",
    "activity that creates demand and growth for many more industries. Tourism not only\n",
    "contributes to more economic activities but also generates more employment, revenues, and\n",
    "play a significant role in development. \n",
    "\n",
    "*   Tourism activity creates demand.\n",
    "*   Tourism industry value chain meets & spreads demand across industries & boo\n",
    "*   Tourism induces more consumption.\n",
    "\n",
    "   \n"
   ]
  },
  {
   "cell_type": "markdown",
   "metadata": {
    "id": "VFhdXRAD6KD8"
   },
   "source": [
    "# **Business Problem**\n",
    "All the benefits of tourism tend to reflect on the employment opportunity which it gives to the\n",
    "people of that country. The objective of this project is to analyze the tourist places of a given\n",
    "state in India and try to recommend the best location where they can open a restaurant or\n",
    "lodging to make the best use of the opportunity.\n",
    "The target audience for this project includes people who are interested in opening a\n",
    "restaurant, lodging, transport services, or any other similar businesses which fall within the\n",
    "tourism industry. This also recommends travelers' tourist venues to be visited in a given state\n",
    "of a country\n"
   ]
  },
  {
   "cell_type": "code",
   "execution_count": null,
   "metadata": {},
   "outputs": [],
   "source": []
  }
 ],
 "metadata": {
  "colab": {
   "collapsed_sections": [],
   "name": "Description.ipynb",
   "provenance": []
  },
  "kernelspec": {
   "display_name": "Python 3",
   "language": "python",
   "name": "python3"
  },
  "language_info": {
   "codemirror_mode": {
    "name": "ipython",
    "version": 3
   },
   "file_extension": ".py",
   "mimetype": "text/x-python",
   "name": "python",
   "nbconvert_exporter": "python",
   "pygments_lexer": "ipython3",
   "version": "3.7.3"
  }
 },
 "nbformat": 4,
 "nbformat_minor": 1
}
