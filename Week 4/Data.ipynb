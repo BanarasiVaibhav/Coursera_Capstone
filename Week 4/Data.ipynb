{
  "nbformat": 4,
  "nbformat_minor": 0,
  "metadata": {
    "colab": {
      "name": "Data.ipynb",
      "provenance": [],
      "collapsed_sections": []
    },
    "kernelspec": {
      "name": "python3",
      "display_name": "Python 3"
    },
    "language_info": {
      "name": "python"
    }
  },
  "cells": [
    {
      "cell_type": "markdown",
      "metadata": {
        "id": "M7F_3p6B5vw0"
      },
      "source": [
        "# **A description of the data and how it will be used to solve the problem.**"
      ]
    },
    {
      "cell_type": "markdown",
      "metadata": {
        "id": "RmMV5Wkt6Ops"
      },
      "source": [
        "\n",
        "\n",
        "The Wikipedia page https://en.wikipedia.org/wiki/List_of_districts_in_India is the major\n",
        "source of data that is being used to obtain all the districts of India. We then use\n",
        "beautifulsoup4 package, a Python module that helps to scrape information from the web\n",
        "pages to extract all the tables from this Wikipedia page and convert it into a pandas\n",
        "dataframe. Then we use Python’s geopy package to obtain the latitude and longitude of all the\n",
        "districts present in the dataframe.\n",
        "\n",
        "\n",
        "The output shows the final dataset. The dataset consists of a single Dataframe with 9 columns\n",
        "containing state, districts, latitude and longitudes of the particular district etc. Other columns\n",
        "like code, headquarters, population, area and density have also been scraped from the website\n",
        "which can be used for further analysis.\n",
        "\n"
      ]
    },
    {
      "cell_type": "markdown",
      "metadata": {
        "id": "VFhdXRAD6KD8"
      },
      "source": [
        ""
      ]
    }
  ]
}